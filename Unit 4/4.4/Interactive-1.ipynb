{
 "cells": [
  {
   "cell_type": "markdown",
   "metadata": {
    "isInteractiveWindowMessageCell": true
   },
   "source": [
    "Connected to Python 3.9.6"
   ]
  },
  {
   "cell_type": "code",
   "execution_count": 1,
   "metadata": {},
   "outputs": [
    {
     "ename": "TypeError",
     "evalue": "__init__() missing 1 required positional argument: 'telephone'",
     "output_type": "error",
     "traceback": [
      "\u001b[0;31m---------------------------------------------------------------------------\u001b[0m",
      "\u001b[0;31mTypeError\u001b[0m                                 Traceback (most recent call last)",
      "\u001b[1;32m/duradurian/durian-ICS3U/Unit 4/4.4/7. student_class.py\u001b[0m in \u001b[0;36mline 56\n\u001b[1;32m     <a href='vscode-vfs://github/duradurian/durian-ICS3U/Unit%204/4.4/7.%20student_class.py?line=51'>52</a>\u001b[0m \u001b[39m    \u001b[39m\u001b[39m'''main logic'''\u001b[39;00m\n\u001b[1;32m     <a href='vscode-vfs://github/duradurian/durian-ICS3U/Unit%204/4.4/7.%20student_class.py?line=53'>54</a>\u001b[0m     student_instance \u001b[39m=\u001b[39m Student(\u001b[39mTrue\u001b[39;00m, \u001b[39m348592924\u001b[39m, \u001b[39m\"\u001b[39m\u001b[39mDarrien\u001b[39m\u001b[39m\"\u001b[39m, \u001b[39m\"\u001b[39m\u001b[39m7522 Kennedy Road\u001b[39m\u001b[39m\"\u001b[39m, \u001b[39m\"\u001b[39m\u001b[39m123123123123\u001b[39m\u001b[39m\"\u001b[39m)\n\u001b[0;32m---> <a href='vscode-vfs://github/duradurian/durian-ICS3U/Unit%204/4.4/7.%20student_class.py?line=55'>56</a>\u001b[0m main()\n",
      "\u001b[1;32m/duradurian/durian-ICS3U/Unit 4/4.4/7. student_class.py\u001b[0m in \u001b[0;36mline 54\u001b[0m, in \u001b[0;36mmain\u001b[0;34m()\n\u001b[1;32m     <a href='vscode-vfs://github/duradurian/durian-ICS3U/Unit%204/4.4/7.%20student_class.py?line=50'>51</a>\u001b[0m \u001b[39mdef\u001b[39;00m \u001b[39mmain\u001b[39m():\n\u001b[1;32m     <a href='vscode-vfs://github/duradurian/durian-ICS3U/Unit%204/4.4/7.%20student_class.py?line=51'>52</a>\u001b[0m \u001b[39m    \u001b[39m\u001b[39m'''main logic'''\u001b[39;00m\n\u001b[0;32m---> <a href='vscode-vfs://github/duradurian/durian-ICS3U/Unit%204/4.4/7.%20student_class.py?line=53'>54</a>\u001b[0m     student_instance \u001b[39m=\u001b[39m Student(\u001b[39mTrue\u001b[39;49;00m, \u001b[39m348592924\u001b[39;49m, \u001b[39m\"\u001b[39;49m\u001b[39mDarrien\u001b[39;49m\u001b[39m\"\u001b[39;49m, \u001b[39m\"\u001b[39;49m\u001b[39m7522 Kennedy Road\u001b[39;49m\u001b[39m\"\u001b[39;49m, \u001b[39m\"\u001b[39;49m\u001b[39m123123123123\u001b[39;49m\u001b[39m\"\u001b[39;49m)\n",
      "\u001b[1;32m/duradurian/durian-ICS3U/Unit 4/4.4/7. student_class.py\u001b[0m in \u001b[0;36mline 34\u001b[0m, in \u001b[0;36mStudent.__init__\u001b[0;34m(self, cellphone, student_id, name, address, telephone)\n\u001b[1;32m     <a href='vscode-vfs://github/duradurian/durian-ICS3U/Unit%204/4.4/7.%20student_class.py?line=32'>33</a>\u001b[0m \u001b[39mdef\u001b[39;00m \u001b[39m__init__\u001b[39m(\u001b[39mself\u001b[39m, cellphone \u001b[39m=\u001b[39m \u001b[39mFalse\u001b[39;00m, student_id \u001b[39m=\u001b[39m \u001b[39m0\u001b[39m, name \u001b[39m=\u001b[39m \u001b[39mNone\u001b[39;00m, address \u001b[39m=\u001b[39m \u001b[39mNone\u001b[39;00m, telephone \u001b[39m=\u001b[39m \u001b[39mNone\u001b[39;00m):\n\u001b[0;32m---> <a href='vscode-vfs://github/duradurian/durian-ICS3U/Unit%204/4.4/7.%20student_class.py?line=33'>34</a>\u001b[0m     Person\u001b[39m.\u001b[39;49m\u001b[39m__init__\u001b[39;49m(name, address, telephone)\n\u001b[1;32m     <a href='vscode-vfs://github/duradurian/durian-ICS3U/Unit%204/4.4/7.%20student_class.py?line=35'>36</a>\u001b[0m     \u001b[39mself\u001b[39m\u001b[39m.\u001b[39m__has_cellphone \u001b[39m=\u001b[39m cellphone\n\u001b[1;32m     <a href='vscode-vfs://github/duradurian/durian-ICS3U/Unit%204/4.4/7.%20student_class.py?line=36'>37</a>\u001b[0m     \u001b[39mself\u001b[39m\u001b[39m.\u001b[39m__student_id \u001b[39m=\u001b[39m student_id\n",
      "\u001b[0;31mTypeError\u001b[0m: __init__() missing 1 required positional argument: 'telephone'"
     ]
    }
   ],
   "source": [
    "\"\"\"\n",
    "Author: Darrien Guan\n",
    "Date: November 21, 2023\n",
    "Discription: Student subclass \n",
    "\"\"\"\n",
    "\n",
    "class Person():\n",
    "    def __init__(self, name, address, telephone):\n",
    "        self.__name = name\n",
    "        self.__address = address\n",
    "        self.__telephone = telephone\n",
    "\n",
    "    def get_name(self):\n",
    "        return self.__name\n",
    "\n",
    "    def get_address(self):\n",
    "        return self.__address\n",
    "    \n",
    "    def get_telephone(self):\n",
    "        return self.__telephone\n",
    "    \n",
    "    def set_name(self, new_name):\n",
    "        self.__name = new_name\n",
    "\n",
    "    def set_address(self, new_address):\n",
    "        self.__address = new_address\n",
    "\n",
    "    def set_telephone(self, new_telephone):\n",
    "        self.__telephone = new_telephone\n",
    "\n",
    "class Student(Person):\n",
    "\n",
    "    def __init__(self, cellphone = False, student_id = 0, name = None, address = None, telephone = None):\n",
    "        Person.__init__(name, address, telephone)\n",
    "\n",
    "        self.__has_cellphone = cellphone\n",
    "        self.__student_id = student_id\n",
    "\n",
    "    def is_cellphone(self):\n",
    "        return self.__has_cellphone\n",
    "    \n",
    "    def get_student_id(self):\n",
    "        return self.__student_id\n",
    "    \n",
    "    def set_has_cellphone(self, cellphone = False):\n",
    "        self.__has_cellphone = cellphone\n",
    "\n",
    "    def set_student_id(self, student_id):\n",
    "        self.__student_id = student_id\n",
    "\n",
    "def main():\n",
    "    '''main logic'''\n",
    "\n",
    "    student_instance = Student(True, 348592924, \"Darrien\", \"7522 Kennedy Road\", \"123123123123\")\n",
    "\n",
    "main()"
   ]
  }
 ],
 "metadata": {
  "kernelspec": {
   "display_name": "Python 3",
   "language": "python",
   "name": "python3"
  },
  "language_info": {
   "name": "python",
   "version": "3.9.6"
  }
 },
 "nbformat": 4,
 "nbformat_minor": 2
}
